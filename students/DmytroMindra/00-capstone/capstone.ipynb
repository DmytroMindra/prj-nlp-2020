{
 "cells": [
  {
   "cell_type": "code",
   "execution_count": 1,
   "metadata": {},
   "outputs": [
    {
     "name": "stdout",
     "output_type": "stream",
     "text": [
      "Requirement already satisfied: sklearn in ./venv/lib/python3.8/site-packages (0.0)\r\n",
      "Requirement already satisfied: scikit-learn in ./venv/lib/python3.8/site-packages (from sklearn) (0.23.1)\r\n",
      "Requirement already satisfied: scipy>=0.19.1 in ./venv/lib/python3.8/site-packages (from scikit-learn->sklearn) (1.4.1)\r\n",
      "Requirement already satisfied: joblib>=0.11 in ./venv/lib/python3.8/site-packages (from scikit-learn->sklearn) (0.15.1)\r\n",
      "Requirement already satisfied: threadpoolctl>=2.0.0 in ./venv/lib/python3.8/site-packages (from scikit-learn->sklearn) (2.1.0)\r\n",
      "Requirement already satisfied: numpy>=1.13.3 in ./venv/lib/python3.8/site-packages (from scikit-learn->sklearn) (1.18.5)\r\n",
      "Requirement already satisfied: keras in ./venv/lib/python3.8/site-packages (2.3.1)\r\n",
      "Requirement already satisfied: six>=1.9.0 in ./venv/lib/python3.8/site-packages (from keras) (1.15.0)\r\n",
      "Requirement already satisfied: h5py in ./venv/lib/python3.8/site-packages (from keras) (2.10.0)\r\n",
      "Requirement already satisfied: pyyaml in ./venv/lib/python3.8/site-packages (from keras) (5.3.1)\r\n",
      "Requirement already satisfied: scipy>=0.14 in ./venv/lib/python3.8/site-packages (from keras) (1.4.1)\r\n",
      "Requirement already satisfied: numpy>=1.9.1 in ./venv/lib/python3.8/site-packages (from keras) (1.18.5)\r\n",
      "Requirement already satisfied: keras-applications>=1.0.6 in ./venv/lib/python3.8/site-packages (from keras) (1.0.8)\r\n",
      "Requirement already satisfied: keras-preprocessing>=1.0.5 in ./venv/lib/python3.8/site-packages (from keras) (1.1.2)\r\n",
      "Requirement already satisfied: tensorflow in ./venv/lib/python3.8/site-packages (2.2.0)\r\n",
      "Requirement already satisfied: protobuf>=3.8.0 in ./venv/lib/python3.8/site-packages (from tensorflow) (3.12.2)\r\n",
      "Requirement already satisfied: google-pasta>=0.1.8 in ./venv/lib/python3.8/site-packages (from tensorflow) (0.2.0)\r\n",
      "Requirement already satisfied: six>=1.12.0 in ./venv/lib/python3.8/site-packages (from tensorflow) (1.15.0)\r\n",
      "Requirement already satisfied: grpcio>=1.8.6 in ./venv/lib/python3.8/site-packages (from tensorflow) (1.29.0)\r\n",
      "Requirement already satisfied: wheel>=0.26; python_version >= \"3\" in ./venv/lib/python3.8/site-packages (from tensorflow) (0.34.2)\r\n",
      "Requirement already satisfied: absl-py>=0.7.0 in ./venv/lib/python3.8/site-packages (from tensorflow) (0.9.0)\r\n",
      "Requirement already satisfied: keras-preprocessing>=1.1.0 in ./venv/lib/python3.8/site-packages (from tensorflow) (1.1.2)\r\n",
      "Requirement already satisfied: astunparse==1.6.3 in ./venv/lib/python3.8/site-packages (from tensorflow) (1.6.3)\r\n",
      "Requirement already satisfied: opt-einsum>=2.3.2 in ./venv/lib/python3.8/site-packages (from tensorflow) (3.2.1)\r\n",
      "Requirement already satisfied: tensorboard<2.3.0,>=2.2.0 in ./venv/lib/python3.8/site-packages (from tensorflow) (2.2.2)\r\n",
      "Requirement already satisfied: gast==0.3.3 in ./venv/lib/python3.8/site-packages (from tensorflow) (0.3.3)\r\n",
      "Requirement already satisfied: numpy<2.0,>=1.16.0 in ./venv/lib/python3.8/site-packages (from tensorflow) (1.18.5)\r\n",
      "Requirement already satisfied: tensorflow-estimator<2.3.0,>=2.2.0 in ./venv/lib/python3.8/site-packages (from tensorflow) (2.2.0)\r\n",
      "Requirement already satisfied: termcolor>=1.1.0 in ./venv/lib/python3.8/site-packages (from tensorflow) (1.1.0)\r\n",
      "Requirement already satisfied: wrapt>=1.11.1 in ./venv/lib/python3.8/site-packages (from tensorflow) (1.12.1)\r\n",
      "Requirement already satisfied: scipy==1.4.1; python_version >= \"3\" in ./venv/lib/python3.8/site-packages (from tensorflow) (1.4.1)\r\n",
      "Requirement already satisfied: h5py<2.11.0,>=2.10.0 in ./venv/lib/python3.8/site-packages (from tensorflow) (2.10.0)\r\n",
      "Requirement already satisfied: setuptools in ./venv/lib/python3.8/site-packages (from protobuf>=3.8.0->tensorflow) (47.1.1)\r\n",
      "Requirement already satisfied: requests<3,>=2.21.0 in ./venv/lib/python3.8/site-packages (from tensorboard<2.3.0,>=2.2.0->tensorflow) (2.23.0)\r\n",
      "Requirement already satisfied: werkzeug>=0.11.15 in ./venv/lib/python3.8/site-packages (from tensorboard<2.3.0,>=2.2.0->tensorflow) (1.0.1)\r\n",
      "Requirement already satisfied: google-auth-oauthlib<0.5,>=0.4.1 in ./venv/lib/python3.8/site-packages (from tensorboard<2.3.0,>=2.2.0->tensorflow) (0.4.1)\r\n",
      "Requirement already satisfied: google-auth<2,>=1.6.3 in ./venv/lib/python3.8/site-packages (from tensorboard<2.3.0,>=2.2.0->tensorflow) (1.16.1)\r\n",
      "Requirement already satisfied: tensorboard-plugin-wit>=1.6.0 in ./venv/lib/python3.8/site-packages (from tensorboard<2.3.0,>=2.2.0->tensorflow) (1.6.0.post3)\r\n",
      "Requirement already satisfied: markdown>=2.6.8 in ./venv/lib/python3.8/site-packages (from tensorboard<2.3.0,>=2.2.0->tensorflow) (3.2.2)\r\n",
      "Requirement already satisfied: certifi>=2017.4.17 in ./venv/lib/python3.8/site-packages (from requests<3,>=2.21.0->tensorboard<2.3.0,>=2.2.0->tensorflow) (2020.4.5.1)\r\n",
      "Requirement already satisfied: chardet<4,>=3.0.2 in ./venv/lib/python3.8/site-packages (from requests<3,>=2.21.0->tensorboard<2.3.0,>=2.2.0->tensorflow) (3.0.4)\r\n",
      "Requirement already satisfied: idna<3,>=2.5 in ./venv/lib/python3.8/site-packages (from requests<3,>=2.21.0->tensorboard<2.3.0,>=2.2.0->tensorflow) (2.9)\r\n",
      "Requirement already satisfied: urllib3!=1.25.0,!=1.25.1,<1.26,>=1.21.1 in ./venv/lib/python3.8/site-packages (from requests<3,>=2.21.0->tensorboard<2.3.0,>=2.2.0->tensorflow) (1.25.9)\r\n",
      "Requirement already satisfied: requests-oauthlib>=0.7.0 in ./venv/lib/python3.8/site-packages (from google-auth-oauthlib<0.5,>=0.4.1->tensorboard<2.3.0,>=2.2.0->tensorflow) (1.3.0)\r\n",
      "Requirement already satisfied: cachetools<5.0,>=2.0.0 in ./venv/lib/python3.8/site-packages (from google-auth<2,>=1.6.3->tensorboard<2.3.0,>=2.2.0->tensorflow) (4.1.0)\r\n",
      "Requirement already satisfied: rsa<4.1,>=3.1.4 in ./venv/lib/python3.8/site-packages (from google-auth<2,>=1.6.3->tensorboard<2.3.0,>=2.2.0->tensorflow) (4.0)\r\n",
      "Requirement already satisfied: pyasn1-modules>=0.2.1 in ./venv/lib/python3.8/site-packages (from google-auth<2,>=1.6.3->tensorboard<2.3.0,>=2.2.0->tensorflow) (0.2.8)\r\n",
      "Requirement already satisfied: oauthlib>=3.0.0 in ./venv/lib/python3.8/site-packages (from requests-oauthlib>=0.7.0->google-auth-oauthlib<0.5,>=0.4.1->tensorboard<2.3.0,>=2.2.0->tensorflow) (3.1.0)\r\n",
      "Requirement already satisfied: pyasn1>=0.1.3 in ./venv/lib/python3.8/site-packages (from rsa<4.1,>=3.1.4->google-auth<2,>=1.6.3->tensorboard<2.3.0,>=2.2.0->tensorflow) (0.4.8)\r\n"
     ]
    }
   ],
   "source": [
    "!pip install sklearn\n",
    "!pip install keras\n",
    "!pip install tensorflow"
   ]
  },
  {
   "cell_type": "code",
   "execution_count": 117,
   "metadata": {},
   "outputs": [],
   "source": [
    "QUESTION_MAXLEN = 256\n",
    "SUPPORT_MAXLEN = 512\n",
    "ANSWER_MAXLEN = 8\n",
    "FEATURE_LEN = 1\n",
    "DATA_LENGTH = QUESTION_MAXLEN + SUPPORT_MAXLEN + ANSWER_MAXLEN*4 + FEATURE_LEN*4\n",
    "\n",
    "PATH_TO_SCIQ_DATASET = 'data/'\n",
    "TEST_FILENAME = 'test.json'\n",
    "TRAIN_FILENAME = 'train.json'\n",
    "VALIDATION_FILENAME = 'valid.json'"
   ]
  },
  {
   "cell_type": "code",
   "execution_count": 118,
   "metadata": {},
   "outputs": [
    {
     "name": "stdout",
     "output_type": "stream",
     "text": [
      "test_data: 1000\n",
      "train_data: 11679\n",
      "validation_data: 1000\n"
     ]
    }
   ],
   "source": [
    "import json\n",
    "import random\n",
    "from sklearn.model_selection import cross_val_score\n",
    "\n",
    "with open(PATH_TO_SCIQ_DATASET+TEST_FILENAME,'r') as json_file:\n",
    "    test_data =  json.load(json_file)\n",
    "\n",
    "with open(PATH_TO_SCIQ_DATASET+TRAIN_FILENAME,'r') as json_file:\n",
    "    train_data =  json.load(json_file)\n",
    "\n",
    "with open(PATH_TO_SCIQ_DATASET+VALIDATION_FILENAME,'r') as json_file:\n",
    "    validation_data =  json.load(json_file)\n",
    "\n",
    "    \n",
    "print('test_data:',len(test_data))\n",
    "print('train_data:',len(train_data))\n",
    "print('validation_data:',len(validation_data))"
   ]
  },
  {
   "cell_type": "code",
   "execution_count": 87,
   "metadata": {},
   "outputs": [],
   "source": [
    "import matplotlib.pyplot as plt\n",
    "plt.style.use('ggplot')\n",
    "\n",
    "def plot_history(history):\n",
    "    acc = history.history['acc']\n",
    "    val_acc = history.history['val_acc']\n",
    "    loss = history.history['loss']\n",
    "    val_loss = history.history['val_loss']\n",
    "    x = range(1, len(acc) + 1)\n",
    "\n",
    "    plt.figure(figsize=(12, 5))\n",
    "    plt.subplot(1, 2, 1)\n",
    "    plt.plot(x, acc, 'b', label='Training acc')\n",
    "    plt.plot(x, val_acc, 'r', label='Validation acc')\n",
    "    plt.title('Training and validation accuracy')\n",
    "    plt.legend()\n",
    "    plt.subplot(1, 2, 2)\n",
    "    plt.plot(x, loss, 'b', label='Training loss')\n",
    "    plt.plot(x, val_loss, 'r', label='Validation loss')\n",
    "    plt.title('Training and validation loss')\n",
    "    plt.legend()"
   ]
  },
  {
   "cell_type": "code",
   "execution_count": 25,
   "metadata": {},
   "outputs": [
    {
     "name": "stdout",
     "output_type": "stream",
     "text": [
      "{'question': 'What kind of a reaction occurs when a substance reacts quickly with oxygen?', 'distractor3': 'nitrogen reaction', 'distractor1': 'invention reaction', 'distractor2': 'Fluid Reaction', 'correct_answer': 'combustion reaction', 'support': 'A combustion reaction occurs when a substance reacts quickly with oxygen (O 2 ). For example, in the Figure below , charcoal is combining with oxygen. Combustion is commonly called burning, and the substance that burns is usually referred to as fuel. The products of a complete combustion reaction include carbon dioxide (CO 2 ) and water vapor (H 2 O). The reaction typically gives off heat and light as well. The general equation for a complete combustion reaction is:.'}\n"
     ]
    }
   ],
   "source": [
    "print(train_data[6])"
   ]
  },
  {
   "cell_type": "code",
   "execution_count": 26,
   "metadata": {},
   "outputs": [
    {
     "name": "stdout",
     "output_type": "stream",
     "text": [
      "Indexing word vectors.\n",
      "Found 400000 word vectors.\n"
     ]
    }
   ],
   "source": [
    "from __future__ import print_function\n",
    "\n",
    "import os\n",
    "import sys\n",
    "import numpy as np\n",
    "from keras.preprocessing.text import Tokenizer\n",
    "from keras.preprocessing.sequence import pad_sequences\n",
    "from keras.utils import to_categorical\n",
    "from keras.layers import Dense, Input, GlobalMaxPooling1D\n",
    "from keras.layers import Conv1D, MaxPooling1D, Embedding, Flatten, Dropout, LSTM\n",
    "from keras.models import Model\n",
    "from keras.initializers import Constant\n",
    "\n",
    "\n",
    "BASE_DIR = ''\n",
    "GLOVE_DIR = os.path.join(BASE_DIR, 'data/glove.6B')\n",
    "TEXT_DATA_DIR = os.path.join(BASE_DIR, 'data')\n",
    "MAX_SEQUENCE_LENGTH = 256\n",
    "MAX_NUM_WORDS = 400000\n",
    "EMBEDDING_DIM = 300\n",
    "VALIDATION_SPLIT = 0.2\n",
    "\n",
    "# first, build index mapping words in the embeddings set\n",
    "# to their embedding vector\n",
    "\n",
    "print('Indexing word vectors.')\n",
    "\n",
    "embeddings_index = {}\n",
    "with open(os.path.join(GLOVE_DIR, 'glove.6B.300d.txt')) as f:\n",
    "    for line in f:\n",
    "        word, coefs = line.split(maxsplit=1)\n",
    "        coefs = np.fromstring(coefs, 'f', sep=' ')\n",
    "        embeddings_index[word] = coefs\n",
    "\n",
    "print('Found %s word vectors.' % len(embeddings_index))"
   ]
  },
  {
   "cell_type": "code",
   "execution_count": 27,
   "metadata": {},
   "outputs": [
    {
     "name": "stdout",
     "output_type": "stream",
     "text": [
      "82074\n"
     ]
    }
   ],
   "source": [
    "texts = []\n",
    "\n",
    "aggregated_data = []\n",
    "\n",
    "aggregated_data.extend(test_data)\n",
    "aggregated_data.extend(train_data)\n",
    "aggregated_data.extend(validation_data)\n",
    "\n",
    "for data_item in aggregated_data:\n",
    "    texts.append(data_item['question'])\n",
    "    texts.append(data_item['support'])\n",
    "    texts.append(data_item['distractor1'])\n",
    "    texts.append(data_item['distractor2'])\n",
    "    texts.append(data_item['distractor3'])\n",
    "    texts.append(data_item['correct_answer'])\n",
    "    \n",
    "print (len(texts))"
   ]
  },
  {
   "cell_type": "code",
   "execution_count": 88,
   "metadata": {},
   "outputs": [
    {
     "name": "stdout",
     "output_type": "stream",
     "text": [
      "Preparing embedding matrix.\n",
      "num_words 28523\n"
     ]
    }
   ],
   "source": [
    "# finally, vectorize the text samples into a 2D integer tensor\n",
    "tokenizer = Tokenizer(num_words=MAX_NUM_WORDS)\n",
    "tokenizer.fit_on_texts(texts)\n",
    "\n",
    "print('Preparing embedding matrix.')\n",
    "\n",
    "word_index = tokenizer.word_index\n",
    "\n",
    "# prepare embedding matrix\n",
    "num_words = min(MAX_NUM_WORDS, len(word_index) + 1)\n",
    "embedding_matrix = np.zeros((num_words, EMBEDDING_DIM))\n",
    "for word, i in word_index.items():\n",
    "    if i >= MAX_NUM_WORDS:\n",
    "        continue\n",
    "    embedding_vector = embeddings_index.get(word)\n",
    "    if embedding_vector is not None:\n",
    "        # words not found in embedding index will be all-zeros.\n",
    "        embedding_matrix[i] = embedding_vector\n",
    "\n",
    "# load pre-trained word embeddings into an Embedding layer\n",
    "# note that we set trainable = False so as to keep the embeddings fixed\n",
    "embedding_layer = Embedding(num_words,\n",
    "                            EMBEDDING_DIM,\n",
    "                            embeddings_initializer=Constant(embedding_matrix),\n",
    "                            input_length=DATA_LENGTH,\n",
    "                            trainable=False)\n",
    "\n",
    "print ('num_words',num_words)"
   ]
  },
  {
   "cell_type": "code",
   "execution_count": 76,
   "metadata": {},
   "outputs": [],
   "source": [
    "def get_question_form_data(dataset):        \n",
    "    question_form_data = []\n",
    "    correct_answers = []\n",
    "\n",
    "    for data_item in dataset:\n",
    "        form_data = {}\n",
    "        \n",
    "        question = data_item['question']\n",
    "        support = data_item['support']\n",
    "\n",
    "        local_answers = []\n",
    "        local_answers.append(data_item['distractor1'])\n",
    "        local_answers.append(data_item['distractor2'])\n",
    "        local_answers.append(data_item['distractor3'])\n",
    "        position = random.randrange(4)\n",
    "        local_answers.insert(position,data_item['correct_answer'])\n",
    "        \n",
    "        answers.append(local_answers)   \n",
    "            \n",
    "        form_data['answers'] = local_answers\n",
    "        form_data['question'] = question\n",
    "        form_data['support'] = data_item['support']        \n",
    "        \n",
    "        question_form_data.append(form_data)\n",
    "        correct_answers.append(position)\n",
    "\n",
    "    return question_form_data, correct_answers\n",
    "\n",
    "\n",
    "def pad_and_vectorize(text, tokenizer, padding):\n",
    "    vectorized = tokenizer.texts_to_sequences(text)\n",
    "    padded = pad_sequences(vectorized, maxlen=padding)\n",
    "    return padded\n",
    "\n",
    "def extract_features(data_item):    \n",
    "    features = []    \n",
    "    question = data_item['question']\n",
    "    support = data_item['support']\n",
    "    answers = data_item['answers']       \n",
    "    \n",
    "    for option in answers:\n",
    "        if support.lower().find(option.lower())>-1:\n",
    "            features.append('1')\n",
    "        else:\n",
    "            features.append('0')\n",
    "    return features\n",
    "\n",
    "\n",
    "def get_vectorized_data_row(data_item, tokenizer):\n",
    "    question = data_item['question']\n",
    "    support = data_item['support']\n",
    "    answers = data_item['answers']\n",
    "    features = extract_features(data_item)\n",
    "\n",
    "    question_vectorized = pad_and_vectorize ([question], tokenizer, QUESTION_MAXLEN)[0]\n",
    "    support_vectorized = pad_and_vectorize ([support], tokenizer, SUPPORT_MAXLEN)[0]        \n",
    "    answers_vectorized = pad_and_vectorize (answers, tokenizer, ANSWER_MAXLEN)  \n",
    "    features_vectorized = pad_and_vectorize (features, tokenizer, FEATURE_LEN)      \n",
    "        \n",
    "    row = []\n",
    "    row.extend(question_vectorized)\n",
    "    row.extend(support_vectorized)    \n",
    "    for answer in answers_vectorized:\n",
    "        row.extend(answer)        \n",
    "    for feature in features_vectorized:\n",
    "        row.extend(feature)        \n",
    "\n",
    "    return np.array(row)\n",
    "\n",
    "\n",
    "def get_padded_vectors_combined(form_data, tokenizer):\n",
    "    vectorized_data = []\n",
    "    for data_item in form_data:\n",
    "        data_row = get_vectorized_data_row(data_item, tokenizer)\n",
    "        vectorized_data.append (data_row)\n",
    "    return vectorized_data"
   ]
  },
  {
   "cell_type": "code",
   "execution_count": 83,
   "metadata": {},
   "outputs": [
    {
     "name": "stdout",
     "output_type": "stream",
     "text": [
      "Validation dataset 1000 1000 1000 1000\n",
      "Test dataset 1000 1000 1000 1000\n",
      "Train dataset 46716 46716 46716 46716\n"
     ]
    }
   ],
   "source": [
    "validation_form_data, validation_correct = get_question_form_data(validation_data)\n",
    "validation_vectorized_data = get_padded_vectors_combined (validation_form_data, tokenizer)\n",
    "\n",
    "print ('Validation dataset',len(validation_data), len(validation_correct),len(validation_form_data),len(validation_vectorized_data))\n",
    "\n",
    "test_form_data, test_correct = get_question_form_data(test_data)\n",
    "test_vectorized_data = get_padded_vectors_combined (test_form_data, tokenizer)\n",
    "\n",
    "print ('Test dataset',len(test_data),len(test_vectorized_data), len(test_form_data), len(test_correct))\n",
    "\n",
    "\n",
    "# lets expand train dataset four time as data preparation will shuffle the answers\n",
    "train_data_extended = []\n",
    "train_data_extended.extend(train_data)\n",
    "train_data_extended.extend(train_data)\n",
    "train_data_extended.extend(train_data)\n",
    "train_data_extended.extend(train_data)\n",
    "\n",
    "\n",
    "train_form_data, train_correct = get_question_form_data(train_data_extended)\n",
    "train_vectorized_data = get_padded_vectors_combined (train_form_data,tokenizer)\n",
    "\n",
    "print ('Train dataset',len(train_data_extended),len(train_vectorized_data), len(train_form_data), len(train_correct))"
   ]
  },
  {
   "cell_type": "code",
   "execution_count": null,
   "metadata": {},
   "outputs": [
    {
     "name": "stdout",
     "output_type": "stream",
     "text": [
      "Training model.\n",
      "Train on 46716 samples, validate on 1000 samples\n",
      "Epoch 1/10\n",
      "46716/46716 [==============================] - 982s 21ms/step - loss: 0.5854 - acc: 0.7978 - val_loss: 0.3548 - val_acc: 0.8300\n",
      "Epoch 2/10\n",
      "46716/46716 [==============================] - 952s 20ms/step - loss: 0.4285 - acc: 0.8361 - val_loss: 0.4068 - val_acc: 0.8230\n",
      "Epoch 3/10\n",
      "46716/46716 [==============================] - 893s 19ms/step - loss: 0.3882 - acc: 0.8475 - val_loss: 0.4225 - val_acc: 0.8210\n",
      "Epoch 4/10\n",
      "  320/46716 [..............................] - ETA: 15:13 - loss: 0.3800 - acc: 0.8562"
     ]
    }
   ],
   "source": [
    "from sklearn.model_selection import train_test_split\n",
    "X_train = np.array(train_vectorized_data)\n",
    "y_train = to_categorical(train_correct)\n",
    "\n",
    "X_test = np.array(validation_vectorized_data)\n",
    "y_test =to_categorical(validation_correct)\n",
    "\n",
    "#X_train, X_test, y_train, y_test = train_test_split(X, y, test_size=0.33, random_state=42)\n",
    "\n",
    "\n",
    "print('Training model.')\n",
    "\n",
    "\n",
    "\n",
    "# train a 1D convnet with global maxpooling\n",
    "sequence_input = Input(shape=(DATA_LENGTH,), dtype='int32')\n",
    "embedded_sequences = embedding_layer(sequence_input)\n",
    "x = Dropout(0.5)(embedded_sequences)\n",
    "x = Flatten() (x)\n",
    "x = Dense(256, activation='relu')(x)\n",
    "#x = LSTM(64)(x)\n",
    "x = Dropout(0.2)(x)\n",
    "preds = Dense(4, activation='softmax')(x)\n",
    "\n",
    "model = Model(sequence_input, preds)\n",
    "model.compile(loss='categorical_crossentropy',\n",
    "              optimizer='rmsprop',\n",
    "              metrics=['acc'])\n",
    "\n",
    "history = model.fit(X_train, y_train,\n",
    "          batch_size=32,\n",
    "          epochs=10,\n",
    "          validation_data=(X_test, y_test))\n",
    "\n"
   ]
  },
  {
   "cell_type": "code",
   "execution_count": 94,
   "metadata": {},
   "outputs": [
    {
     "data": {
      "image/png": "[encoded data removed]",
      "text/plain": [
       "<Figure size 864x360 with 2 Axes>"
      ]
     },
     "metadata": {},
     "output_type": "display_data"
    }
   ],
   "source": [
    "plot_history(history)"
   ]
  },
  {
   "cell_type": "code",
   "execution_count": 115,
   "metadata": {},
   "outputs": [
    {
     "name": "stdout",
     "output_type": "stream",
     "text": [
      "[1 1 0 0 0 1 1 2 2 1 0 1 1 2 3 0 0 1 0 3 3 1 2 1 3 3 0 2 3 0 0 2]\n",
      "[0 2 0 0 2 1 1 2 2 1 0 1 2 2 3 0 3 0 1 3 3 1 2 1 3 3 0 2 3 0 0 2]\n"
     ]
    }
   ],
   "source": [
    "y_prob = model.predict(X_test[:32]) \n",
    "y_classes = y_prob.argmax(axis=-1)\n",
    "print(y_classes)\n",
    "print(y_test [:32].argmax(axis=-1))"
   ]
  },
  {
   "cell_type": "code",
   "execution_count": 110,
   "metadata": {},
   "outputs": [],
   "source": [
    "import h5py"
   ]
  },
  {
   "cell_type": "code",
   "execution_count": 112,
   "metadata": {},
   "outputs": [],
   "source": [
    "from tensorflow.keras.models import load_model\n",
    "\n",
    "model.save('qa_model_rev3')  # creates a HDF5 file 'my_model.h5'\n",
    "# del model  # deletes the existing model\n",
    "\n",
    "# returns a compiled model\n",
    "# identical to the previous one\n",
    "model = load_model('qa_model_rev4')"
   ]
  },
  {
   "cell_type": "code",
   "execution_count": 113,
   "metadata": {},
   "outputs": [],
   "source": [
    "model = load_model('qa_model_rev4')"
   ]
  },
  {
   "cell_type": "code",
   "execution_count": 104,
   "metadata": {},
   "outputs": [],
   "source": [
    "x = Dense(256, activation='relu')(x)\n",
    "x = Dropout(0.2)(x)\n",
    "x = Dense(128, activation='relu')(x)\n"
   ]
  },
  {
   "cell_type": "code",
   "execution_count": 127,
   "metadata": {},
   "outputs": [],
   "source": [
    "data = {}\n",
    "#data['vectorized_data'] = test_vectorized_data\n",
    "test_vectorized_data_serializable = []\n",
    "\n",
    "for item in test_vectorized_data:\n",
    "    test_vectorized_data_serializable.append(item.tolist())\n",
    "\n",
    "data['vectorized_data'] = test_vectorized_data_serializable\n",
    "data['form_data'] = test_form_data\n",
    "data['correct'] = test_correct\n",
    "\n",
    "with open(PATH_TO_SCIQ_DATASET + 'test-data-vectorized.txt', 'w') as outfile:\n",
    "    json.dump(data, outfile)"
   ]
  },
  {
   "cell_type": "code",
   "execution_count": null,
   "metadata": {},
   "outputs": [],
   "source": []
  }
 ],
 "metadata": {
  "kernelspec": {
   "display_name": "Python 3",
   "language": "python",
   "name": "python3"
  },
  "language_info": {
   "codemirror_mode": {
    "name": "ipython",
    "version": 3
   },
   "file_extension": ".py",
   "mimetype": "text/x-python",
   "name": "python",
   "nbconvert_exporter": "python",
   "pygments_lexer": "ipython3",
   "version": "3.8.3"
  }
 },
 "nbformat": 4,
 "nbformat_minor": 1
}
